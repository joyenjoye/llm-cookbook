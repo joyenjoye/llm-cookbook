{
 "cells": [
  {
   "cell_type": "markdown",
   "metadata": {},
   "source": [
    "# 第一章 介绍 Introduction"
   ]
  },
  {
   "cell_type": "markdown",
   "metadata": {},
   "source": [
    "本课程“构建具有代理特性的RAG（Building Agentic RAG with LlamaIndex）”由LlamaIndex的联合创始人兼CEO Jerry Liu主讲，旨在教授开发者如何使用agentic RAG框架构建能够处理复杂任务的研究代理。课程内容涵盖了agentic RAG的基本概念及其应用，特别是在数据中进行推理和决策的能力。通过具体示例，如从研究论文中提取与某个问题相关的部分并综合这些论文的观点，开发者将理解agentic RAG在实际应用中的价值。同时，课程深入探讨了需要处理多步推理的复杂请求的技术，例如识别主题并从其他论文中检索附加信息。相比之下，标准RAG管道主要适用于处理简单问题，而agentic RAG则在处理复杂问题上表现出更大的优势。本课程将逐步引导开发者如何将数据交互提升到新的水平，构建一个自主的研究代理。开发者将学习推理的整个过程，包括路由、决策和工具使用，最终实现多步骤推理，特别是使用LLM进行多步骤推理，并在整个过程中保持Memory更新。此外，课程还会介绍如何有效地与代理互动，并利用其详细的控制和监督能力，来确保LLM的调试能力。通过逐步了解和改进代理的行为，开发者将掌握提高代理性能和效率的方法。\n",
    "\n",
    "本课程适合对数据分析、机器学习和自然语言处理感兴趣的开发者及希望提升其数据处理和分析技能的开发者。完成本课程后，开发者将具备构建和使用agentic RAG框架来解决复杂数据处理和决策的能力，有效地与研究代理互动，提升其处理能力和效率，应用多步骤推理和多工具协作，解决复杂任务。"
   ]
  }
 ],
 "metadata": {
  "kernelspec": {
   "display_name": "Python 3",
   "language": "python",
   "name": "python3"
  },
  "language_info": {
   "name": "python",
   "version": "3.9.6"
  }
 },
 "nbformat": 4,
 "nbformat_minor": 2
}
