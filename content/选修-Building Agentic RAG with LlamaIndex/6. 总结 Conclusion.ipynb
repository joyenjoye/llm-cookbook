{
 "cells": [
  {
   "cell_type": "markdown",
   "metadata": {},
   "source": [
    "# 第六章 总结 Conclusion"
   ]
  },
  {
   "cell_type": "markdown",
   "metadata": {},
   "source": [
    "本课程主要介绍了关于Agentic RAG的知识和整个开发流程，从构建路由代理到工具调用，直至构建自己的代理。这些代理具有处理多个文档的能力。通过本课程，开发者可以掌握如何在实际应用中利用Agentic RAG进行复杂任务的推理和决策。\n",
    "\n",
    "课程推荐资源链接：\n",
    "\n",
    "- **自定义代理**: [Custom agent](https://docs.llamaindex.ai/en/stable/examples/agent/custom_agent/)\n",
    "- **社区构建的代理 (LlamaHub)**: [Community-built Agents (LlamaHub)](https://llamahub.ai/?tab=agent)\n",
    "- **高级文档解析 (LlamaParse)**: [Advanced document parsing with LlamaParse](https://cloud.llamaindex.ai/)\n"
   ]
  }
 ],
 "metadata": {
  "kernelspec": {
   "display_name": "Python 3",
   "language": "python",
   "name": "python3"
  },
  "language_info": {
   "name": "python",
   "version": "3.9.6"
  }
 },
 "nbformat": 4,
 "nbformat_minor": 2
}
